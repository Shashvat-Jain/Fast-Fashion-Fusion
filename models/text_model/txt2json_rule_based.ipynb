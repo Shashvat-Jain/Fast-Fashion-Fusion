{
 "cells": [
  {
   "cell_type": "code",
   "execution_count": 2,
   "metadata": {},
   "outputs": [],
   "source": [
    "import pandas as pd\n",
    "import os\n",
    "import json\n",
    "import re\n",
    "import glob\n"
   ]
  },
  {
   "cell_type": "code",
   "execution_count": 27,
   "metadata": {},
   "outputs": [],
   "source": [
    "data = {}\n",
    "categories = []\n",
    "\n",
    "for filename in os.listdir(\"../data/processed_csv\"):\n",
    "    if filename.endswith(\".csv\"):\n",
    "        data[filename[:-4]] = pd.read_csv(\"../data/processed_csv/\" + filename)\n",
    "        categories.append(filename[:-4])\n"
   ]
  },
  {
   "cell_type": "markdown",
   "metadata": {},
   "source": [
    "### Storing Attributes in JSON under ../data/processed_json {for all cat individually}\n",
    "\n",
    "#### Just to look what's in the attributes"
   ]
  },
  {
   "cell_type": "code",
   "execution_count": 38,
   "metadata": {},
   "outputs": [
    {
     "name": "stdout",
     "output_type": "stream",
     "text": [
      "Writing Dresses.json skipping 0 rows out of 7795\n",
      "Writing Shirts.json skipping 162 rows out of 9106\n",
      "Writing Kurtis.json skipping 216 rows out of 14031\n",
      "Writing Sneakers.json skipping 257 rows out of 4660\n",
      "Writing Saree.json skipping 174 rows out of 7305\n",
      "Writing Jeans.json skipping 158 rows out of 21366\n",
      "Writing Bathroom.json skipping 1426 rows out of 9546\n",
      "Writing Earrings.json skipping 683 rows out of 5112\n",
      "Writing Tshirts.json skipping 36 rows out of 5721\n",
      "Writing Watches.json skipping 3076 rows out of 9856\n"
     ]
    }
   ],
   "source": [
    "for cat in categories:\n",
    "    json_list = []\n",
    "    skip = 0\n",
    "    for index, row in data[cat].iterrows():\n",
    "        i = row['style_attributes']\n",
    "        i = i.replace(\"'\", '\"').encode('utf-8').decode('unicode_escape')\n",
    "        try: \n",
    "            json_obj = json.loads(i)\n",
    "            json_obj['sno'] = row['sno']\n",
    "            json_list.append(json_obj)\n",
    "        except:\n",
    "            skip+=1\n",
    "            continue\n",
    "        \n",
    "    print(f\"Writing {cat}.json skipping {skip} rows out of {len(data[cat])}\")\n",
    "    with open(f'../data/processed_json/{cat}.json', 'w') as f:\n",
    "        json.dump(json_list, f)\n"
   ]
  },
  {
   "cell_type": "markdown",
   "metadata": {},
   "source": [
    "### Frequncy and Refined Frequecy Analysis"
   ]
  },
  {
   "cell_type": "code",
   "execution_count": 22,
   "metadata": {},
   "outputs": [],
   "source": [
    "data_properties = {}\n",
    "data_refined_properties = {}\n",
    "# Iterate through each JSON file\n",
    "\n",
    "for filename in os.listdir(\"../data/processed_json\"):\n",
    "    if filename.endswith(\".json\"):\n",
    "        cat_properties = {}\n",
    "        with open(f\"../data/processed_json/{filename}\", 'r') as f:\n",
    "            data = json.load(f)\n",
    "            for item in data:\n",
    "                for key, value in item.items():\n",
    "                    if key in cat_properties:\n",
    "                        cat_properties[key] += 1\n",
    "                    else:\n",
    "                        cat_properties[key] = 1\n",
    "        \n",
    "        cat_refined_properties = {}\n",
    "        for key, value in cat_properties.items():\n",
    "            if key == 'sno':\n",
    "                continue\n",
    "            if value>=10:\n",
    "                cat_refined_properties[key] = value\n",
    "\n",
    "        #sort the cat_refined_properties based on the values\n",
    "        cat_properties = {k:v for k,v in sorted(cat_properties.items(), key=lambda item:item[1], reverse=True)}\n",
    "        cat_refined_properties = {k:v for k,v in sorted(cat_refined_properties.items(), key=lambda item:item[1], reverse=True)}\n",
    "        \n",
    "        data_properties[filename.split('.')[0]] = cat_properties\n",
    "        data_refined_properties[filename.split('.')[0]] = cat_refined_properties\n"
   ]
  },
  {
   "cell_type": "code",
   "execution_count": 21,
   "metadata": {},
   "outputs": [],
   "source": [
    "with open('../data/attributes_frequency.json', 'w') as f:\n",
    "    json.dump(data_properties, f)\n",
    "\n",
    "with open('../data/attributes_refined_frequency.json', 'w') as f:\n",
    "    json.dump(data_refined_properties, f)"
   ]
  }
 ],
 "metadata": {
  "kernelspec": {
   "display_name": "style_env",
   "language": "python",
   "name": "python3"
  },
  "language_info": {
   "codemirror_mode": {
    "name": "ipython",
    "version": 3
   },
   "file_extension": ".py",
   "mimetype": "text/x-python",
   "name": "python",
   "nbconvert_exporter": "python",
   "pygments_lexer": "ipython3",
   "version": "3.9.6"
  }
 },
 "nbformat": 4,
 "nbformat_minor": 2
}
